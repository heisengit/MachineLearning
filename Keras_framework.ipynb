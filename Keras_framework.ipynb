{
  "nbformat": 4,
  "nbformat_minor": 0,
  "metadata": {
    "colab": {
      "name": "Keras framework.ipynb",
      "provenance": [],
      "collapsed_sections": [
        "kDtPM2ZGgDkL",
        "wkkoqPtfgL4p",
        "zc693SPumgy1",
        "3HbdQrwdmkEl",
        "bb4CECZvnYsu",
        "c562EgZynlGP"
      ],
      "include_colab_link": true
    },
    "kernelspec": {
      "name": "python3",
      "display_name": "Python 3"
    },
    "accelerator": "GPU"
  },
  "cells": [
    {
      "cell_type": "markdown",
      "metadata": {
        "id": "view-in-github",
        "colab_type": "text"
      },
      "source": [
        "<a href=\"https://colab.research.google.com/github/heisengit/MachineLearning/blob/master/Keras_framework.ipynb\" target=\"_parent\"><img src=\"https://colab.research.google.com/assets/colab-badge.svg\" alt=\"Open In Colab\"/></a>"
      ]
    },
    {
      "cell_type": "markdown",
      "metadata": {
        "id": "scaT6TIqe8_H",
        "colab_type": "text"
      },
      "source": [
        "# Keras Example"
      ]
    },
    {
      "cell_type": "markdown",
      "metadata": {
        "id": "Uu812T2ufAwX",
        "colab_type": "text"
      },
      "source": [
        "## Imports & data set\n",
        "\n",
        "CIFAR-10\n",
        "From Wikipedia, the free encyclopedia\n",
        "\n",
        "The CIFAR-10 dataset (Canadian Institute For Advanced Research) is a collection of images that are commonly used to train machine learning and computer vision algorithms. It is one of the most widely used datasets for machine learning research. The CIFAR-10 dataset contains 60,000 32x32 color images in 10 different classes. The 10 different classes represent airplanes, cars, birds, cats, deer, dogs, frogs, horses, ships, and trucks. There are 6,000 images of each class."
      ]
    },
    {
      "cell_type": "code",
      "metadata": {
        "id": "dQJbPGazvJ4f",
        "colab_type": "code",
        "outputId": "86e1f261-43a3-4a4d-aefe-3a42aabdb517",
        "colab": {
          "base_uri": "https://localhost:8080/",
          "height": 138
        }
      },
      "source": [
        "#Import libraries\n",
        "\n",
        "import numpy as np\n",
        "from sklearn.model_selection import train_test_split\n",
        "import tensorflow as tf\n",
        "\n",
        "from keras.models import Sequential\n",
        "from keras.layers import Dense, Dropout, Activation, Flatten\n",
        "from keras.layers import Conv2D, MaxPooling2D\n",
        "from keras.optimizers import SGD\n",
        "from keras.callbacks import EarlyStopping\n",
        "from keras.utils import to_categorical\n",
        "from keras.applications import VGG16\n",
        "\n",
        "#Download dataset\n",
        "(x_train, y_train), (x_test, y_test) = tf.keras.datasets.cifar10.load_data()"
      ],
      "execution_count": 0,
      "outputs": [
        {
          "output_type": "display_data",
          "data": {
            "text/html": [
              "<p style=\"color: red;\">\n",
              "The default version of TensorFlow in Colab will soon switch to TensorFlow 2.x.<br>\n",
              "We recommend you <a href=\"https://www.tensorflow.org/guide/migrate\" target=\"_blank\">upgrade</a> now \n",
              "or ensure your notebook will continue to use TensorFlow 1.x via the <code>%tensorflow_version 1.x</code> magic:\n",
              "<a href=\"https://colab.research.google.com/notebooks/tensorflow_version.ipynb\" target=\"_blank\">more info</a>.</p>\n"
            ],
            "text/plain": [
              "<IPython.core.display.HTML object>"
            ]
          },
          "metadata": {
            "tags": []
          }
        },
        {
          "output_type": "stream",
          "text": [
            "Using TensorFlow backend.\n"
          ],
          "name": "stderr"
        },
        {
          "output_type": "stream",
          "text": [
            "Downloading data from https://www.cs.toronto.edu/~kriz/cifar-10-python.tar.gz\n",
            "170500096/170498071 [==============================] - 6s 0us/step\n"
          ],
          "name": "stdout"
        }
      ]
    },
    {
      "cell_type": "markdown",
      "metadata": {
        "id": "kDtPM2ZGgDkL",
        "colab_type": "text"
      },
      "source": [
        "### Pixels scaling"
      ]
    },
    {
      "cell_type": "code",
      "metadata": {
        "id": "ooJ7Xk0G4ztP",
        "colab_type": "code",
        "colab": {}
      },
      "source": [
        "# normalize inputs from 0-255 to 0.0-1.0\n",
        "x_train = x_train.astype('float32')\n",
        "x_test = x_test.astype('float32')\n",
        "x_train = x_train / 255.0\n",
        "x_test = x_test / 255.0"
      ],
      "execution_count": 0,
      "outputs": []
    },
    {
      "cell_type": "markdown",
      "metadata": {
        "id": "wkkoqPtfgL4p",
        "colab_type": "text"
      },
      "source": [
        "### Validation split\n",
        "\n",
        "Using the stratify parameter in the `train_test_split` function the splits are made by preserving the percentage of samples for each class (a priori distribution)."
      ]
    },
    {
      "cell_type": "code",
      "metadata": {
        "id": "VXpfmpGJvZ-7",
        "colab_type": "code",
        "outputId": "4ad61e85-8ba5-4ff4-dda6-1fc8c9184276",
        "colab": {
          "base_uri": "https://localhost:8080/",
          "height": 36
        }
      },
      "source": [
        "#Split the dataset into train and validation\n",
        "x_train, x_valid, y_train, y_valid = train_test_split(\n",
        "    x_train, y_train, test_size=0.20, stratify=y_train)\n",
        "\n",
        "print(x_train.shape, x_valid.shape, x_test.shape)"
      ],
      "execution_count": 0,
      "outputs": [
        {
          "output_type": "stream",
          "text": [
            "(40000, 32, 32, 3) (10000, 32, 32, 3) (10000, 32, 32, 3)\n"
          ],
          "name": "stdout"
        }
      ]
    },
    {
      "cell_type": "markdown",
      "metadata": {
        "id": "UNZRpWbLoLUL",
        "colab_type": "text"
      },
      "source": [
        "### Ground truth \n",
        "To train a Keras model, the ground truth has to be in the categorical form ( e.g. [0.0,1.0,0.0,0.0] )"
      ]
    },
    {
      "cell_type": "code",
      "metadata": {
        "id": "xKzuPeQHoRLJ",
        "colab_type": "code",
        "outputId": "76396a80-c038-4390-9774-5902e88ed48c",
        "colab": {
          "base_uri": "https://localhost:8080/",
          "height": 54
        }
      },
      "source": [
        "print(y_train.shape, y_valid.shape, y_test.shape)\n",
        "\n",
        "y_train = to_categorical(y_train,num_classes=10)\n",
        "y_valid = to_categorical(y_valid,num_classes=10)\n",
        "y_test = to_categorical(y_test,num_classes=10)\n",
        "\n",
        "print(y_train.shape, y_valid.shape, y_test.shape)"
      ],
      "execution_count": 0,
      "outputs": [
        {
          "output_type": "stream",
          "text": [
            "(40000, 1) (10000, 1) (10000, 1)\n",
            "(40000, 10) (10000, 10) (10000, 10)\n"
          ],
          "name": "stdout"
        }
      ]
    },
    {
      "cell_type": "markdown",
      "metadata": {
        "id": "Gkc7RzMjX68g",
        "colab_type": "text"
      },
      "source": [
        "## Training mode"
      ]
    },
    {
      "cell_type": "code",
      "metadata": {
        "id": "csj_zaQhWqwy",
        "colab_type": "code",
        "colab": {}
      },
      "source": [
        "#@title Select the network to use. { display-mode: \"form\" }\n",
        "\n",
        "mode = \"Custom network\" #@param [\"Fine tuning\", \"Custom network\"]"
      ],
      "execution_count": 0,
      "outputs": []
    },
    {
      "cell_type": "markdown",
      "metadata": {
        "id": "aBZKC_Wog0eE",
        "colab_type": "text"
      },
      "source": [
        "## Custom CNN Definition"
      ]
    },
    {
      "cell_type": "code",
      "metadata": {
        "id": "q1kHgAedveYq",
        "colab_type": "code",
        "outputId": "317039ee-629a-430c-dd98-44f0fd4a57d0",
        "colab": {
          "base_uri": "https://localhost:8080/",
          "height": 532
        }
      },
      "source": [
        "if mode == 'Custom network':\n",
        "  model = Sequential()\n",
        "\n",
        "  # Convolutional layers\n",
        "  model.add(Conv2D(1, (3,3), padding='same',activation='relu', input_shape=x_train.shape[1:]))\n",
        "  model.add(MaxPooling2D(pool_size=(2, 2),stride=3))\n",
        "  model.add(Dropout(0.2))\n",
        "\n",
        "  model.add(Conv2D(1, (3, 3), padding='same'))\n",
        "  model.add(Activation('relu'))\n",
        "  model.add(MaxPooling2D(pool_size=(2, 2)))\n",
        "  model.add(Dropout(0.25))\n",
        "\n",
        "  # Vectorize features\n",
        "  model.add(Flatten())\n",
        "\n",
        "  # MLP Layers\n",
        "  model.add(Dense(10))\n",
        "  model.add(Activation('relu'))\n",
        "  model.add(Dropout(0.5))\n",
        "  model.add(Dense(10))\n",
        "  model.add(Activation('softmax'))\n",
        "  model.summary()"
      ],
      "execution_count": 0,
      "outputs": [
        {
          "output_type": "stream",
          "text": [
            "WARNING:tensorflow:From /usr/local/lib/python3.6/dist-packages/keras/backend/tensorflow_backend.py:66: The name tf.get_default_graph is deprecated. Please use tf.compat.v1.get_default_graph instead.\n",
            "\n",
            "WARNING:tensorflow:From /usr/local/lib/python3.6/dist-packages/keras/backend/tensorflow_backend.py:541: The name tf.placeholder is deprecated. Please use tf.compat.v1.placeholder instead.\n",
            "\n",
            "WARNING:tensorflow:From /usr/local/lib/python3.6/dist-packages/keras/backend/tensorflow_backend.py:4432: The name tf.random_uniform is deprecated. Please use tf.random.uniform instead.\n",
            "\n"
          ],
          "name": "stdout"
        },
        {
          "output_type": "error",
          "ename": "TypeError",
          "evalue": "ignored",
          "traceback": [
            "\u001b[0;31m---------------------------------------------------------------------------\u001b[0m",
            "\u001b[0;31mTypeError\u001b[0m                                 Traceback (most recent call last)",
            "\u001b[0;32m<ipython-input-6-ae8a3263b8ac>\u001b[0m in \u001b[0;36m<module>\u001b[0;34m()\u001b[0m\n\u001b[1;32m      4\u001b[0m   \u001b[0;31m# Convolutional layers\u001b[0m\u001b[0;34m\u001b[0m\u001b[0;34m\u001b[0m\u001b[0;34m\u001b[0m\u001b[0m\n\u001b[1;32m      5\u001b[0m   \u001b[0mmodel\u001b[0m\u001b[0;34m.\u001b[0m\u001b[0madd\u001b[0m\u001b[0;34m(\u001b[0m\u001b[0mConv2D\u001b[0m\u001b[0;34m(\u001b[0m\u001b[0;36m1\u001b[0m\u001b[0;34m,\u001b[0m \u001b[0;34m(\u001b[0m\u001b[0;36m3\u001b[0m\u001b[0;34m,\u001b[0m\u001b[0;36m3\u001b[0m\u001b[0;34m)\u001b[0m\u001b[0;34m,\u001b[0m \u001b[0mpadding\u001b[0m\u001b[0;34m=\u001b[0m\u001b[0;34m'same'\u001b[0m\u001b[0;34m,\u001b[0m\u001b[0mactivation\u001b[0m\u001b[0;34m=\u001b[0m\u001b[0;34m'relu'\u001b[0m\u001b[0;34m,\u001b[0m \u001b[0minput_shape\u001b[0m\u001b[0;34m=\u001b[0m\u001b[0mx_train\u001b[0m\u001b[0;34m.\u001b[0m\u001b[0mshape\u001b[0m\u001b[0;34m[\u001b[0m\u001b[0;36m1\u001b[0m\u001b[0;34m:\u001b[0m\u001b[0;34m]\u001b[0m\u001b[0;34m)\u001b[0m\u001b[0;34m)\u001b[0m\u001b[0;34m\u001b[0m\u001b[0;34m\u001b[0m\u001b[0m\n\u001b[0;32m----> 6\u001b[0;31m   \u001b[0mmodel\u001b[0m\u001b[0;34m.\u001b[0m\u001b[0madd\u001b[0m\u001b[0;34m(\u001b[0m\u001b[0mMaxPooling2D\u001b[0m\u001b[0;34m(\u001b[0m\u001b[0mpool_size\u001b[0m\u001b[0;34m=\u001b[0m\u001b[0;34m(\u001b[0m\u001b[0;36m2\u001b[0m\u001b[0;34m,\u001b[0m \u001b[0;36m2\u001b[0m\u001b[0;34m)\u001b[0m\u001b[0;34m,\u001b[0m\u001b[0mstride\u001b[0m\u001b[0;34m=\u001b[0m\u001b[0;36m3\u001b[0m\u001b[0;34m)\u001b[0m\u001b[0;34m)\u001b[0m\u001b[0;34m\u001b[0m\u001b[0;34m\u001b[0m\u001b[0m\n\u001b[0m\u001b[1;32m      7\u001b[0m   \u001b[0mmodel\u001b[0m\u001b[0;34m.\u001b[0m\u001b[0madd\u001b[0m\u001b[0;34m(\u001b[0m\u001b[0mDropout\u001b[0m\u001b[0;34m(\u001b[0m\u001b[0;36m0.2\u001b[0m\u001b[0;34m)\u001b[0m\u001b[0;34m)\u001b[0m\u001b[0;34m\u001b[0m\u001b[0;34m\u001b[0m\u001b[0m\n\u001b[1;32m      8\u001b[0m \u001b[0;34m\u001b[0m\u001b[0m\n",
            "\u001b[0;32m/usr/local/lib/python3.6/dist-packages/keras/legacy/interfaces.py\u001b[0m in \u001b[0;36mwrapper\u001b[0;34m(*args, **kwargs)\u001b[0m\n\u001b[1;32m     89\u001b[0m                 warnings.warn('Update your `' + object_name + '` call to the ' +\n\u001b[1;32m     90\u001b[0m                               'Keras 2 API: ' + signature, stacklevel=2)\n\u001b[0;32m---> 91\u001b[0;31m             \u001b[0;32mreturn\u001b[0m \u001b[0mfunc\u001b[0m\u001b[0;34m(\u001b[0m\u001b[0;34m*\u001b[0m\u001b[0margs\u001b[0m\u001b[0;34m,\u001b[0m \u001b[0;34m**\u001b[0m\u001b[0mkwargs\u001b[0m\u001b[0;34m)\u001b[0m\u001b[0;34m\u001b[0m\u001b[0;34m\u001b[0m\u001b[0m\n\u001b[0m\u001b[1;32m     92\u001b[0m         \u001b[0mwrapper\u001b[0m\u001b[0;34m.\u001b[0m\u001b[0m_original_function\u001b[0m \u001b[0;34m=\u001b[0m \u001b[0mfunc\u001b[0m\u001b[0;34m\u001b[0m\u001b[0;34m\u001b[0m\u001b[0m\n\u001b[1;32m     93\u001b[0m         \u001b[0;32mreturn\u001b[0m \u001b[0mwrapper\u001b[0m\u001b[0;34m\u001b[0m\u001b[0;34m\u001b[0m\u001b[0m\n",
            "\u001b[0;32m/usr/local/lib/python3.6/dist-packages/keras/layers/pooling.py\u001b[0m in \u001b[0;36m__init__\u001b[0;34m(self, pool_size, strides, padding, data_format, **kwargs)\u001b[0m\n\u001b[1;32m    260\u001b[0m                  data_format=None, **kwargs):\n\u001b[1;32m    261\u001b[0m         super(MaxPooling2D, self).__init__(pool_size, strides, padding,\n\u001b[0;32m--> 262\u001b[0;31m                                            data_format, **kwargs)\n\u001b[0m\u001b[1;32m    263\u001b[0m \u001b[0;34m\u001b[0m\u001b[0m\n\u001b[1;32m    264\u001b[0m     def _pooling_function(self, inputs, pool_size, strides,\n",
            "\u001b[0;32m/usr/local/lib/python3.6/dist-packages/keras/layers/pooling.py\u001b[0m in \u001b[0;36m__init__\u001b[0;34m(self, pool_size, strides, padding, data_format, **kwargs)\u001b[0m\n\u001b[1;32m    169\u001b[0m     def __init__(self, pool_size=(2, 2), strides=None, padding='valid',\n\u001b[1;32m    170\u001b[0m                  data_format=None, **kwargs):\n\u001b[0;32m--> 171\u001b[0;31m         \u001b[0msuper\u001b[0m\u001b[0;34m(\u001b[0m\u001b[0m_Pooling2D\u001b[0m\u001b[0;34m,\u001b[0m \u001b[0mself\u001b[0m\u001b[0;34m)\u001b[0m\u001b[0;34m.\u001b[0m\u001b[0m__init__\u001b[0m\u001b[0;34m(\u001b[0m\u001b[0;34m**\u001b[0m\u001b[0mkwargs\u001b[0m\u001b[0;34m)\u001b[0m\u001b[0;34m\u001b[0m\u001b[0;34m\u001b[0m\u001b[0m\n\u001b[0m\u001b[1;32m    172\u001b[0m         \u001b[0;32mif\u001b[0m \u001b[0mstrides\u001b[0m \u001b[0;32mis\u001b[0m \u001b[0;32mNone\u001b[0m\u001b[0;34m:\u001b[0m\u001b[0;34m\u001b[0m\u001b[0;34m\u001b[0m\u001b[0m\n\u001b[1;32m    173\u001b[0m             \u001b[0mstrides\u001b[0m \u001b[0;34m=\u001b[0m \u001b[0mpool_size\u001b[0m\u001b[0;34m\u001b[0m\u001b[0;34m\u001b[0m\u001b[0m\n",
            "\u001b[0;32m/usr/local/lib/python3.6/dist-packages/keras/engine/base_layer.py\u001b[0m in \u001b[0;36m__init__\u001b[0;34m(self, **kwargs)\u001b[0m\n\u001b[1;32m    126\u001b[0m         \u001b[0;32mfor\u001b[0m \u001b[0mkwarg\u001b[0m \u001b[0;32min\u001b[0m \u001b[0mkwargs\u001b[0m\u001b[0;34m:\u001b[0m\u001b[0;34m\u001b[0m\u001b[0;34m\u001b[0m\u001b[0m\n\u001b[1;32m    127\u001b[0m             \u001b[0;32mif\u001b[0m \u001b[0mkwarg\u001b[0m \u001b[0;32mnot\u001b[0m \u001b[0;32min\u001b[0m \u001b[0mallowed_kwargs\u001b[0m\u001b[0;34m:\u001b[0m\u001b[0;34m\u001b[0m\u001b[0;34m\u001b[0m\u001b[0m\n\u001b[0;32m--> 128\u001b[0;31m                 \u001b[0;32mraise\u001b[0m \u001b[0mTypeError\u001b[0m\u001b[0;34m(\u001b[0m\u001b[0;34m'Keyword argument not understood:'\u001b[0m\u001b[0;34m,\u001b[0m \u001b[0mkwarg\u001b[0m\u001b[0;34m)\u001b[0m\u001b[0;34m\u001b[0m\u001b[0;34m\u001b[0m\u001b[0m\n\u001b[0m\u001b[1;32m    129\u001b[0m         \u001b[0mname\u001b[0m \u001b[0;34m=\u001b[0m \u001b[0mkwargs\u001b[0m\u001b[0;34m.\u001b[0m\u001b[0mget\u001b[0m\u001b[0;34m(\u001b[0m\u001b[0;34m'name'\u001b[0m\u001b[0;34m)\u001b[0m\u001b[0;34m\u001b[0m\u001b[0;34m\u001b[0m\u001b[0m\n\u001b[1;32m    130\u001b[0m         \u001b[0;32mif\u001b[0m \u001b[0;32mnot\u001b[0m \u001b[0mname\u001b[0m\u001b[0;34m:\u001b[0m\u001b[0;34m\u001b[0m\u001b[0;34m\u001b[0m\u001b[0m\n",
            "\u001b[0;31mTypeError\u001b[0m: ('Keyword argument not understood:', 'stride')"
          ]
        }
      ]
    },
    {
      "cell_type": "markdown",
      "metadata": {
        "id": "FjB21L60pmQ9",
        "colab_type": "text"
      },
      "source": [
        "## Fine Tuning (VGG16)\n",
        "VGG16 is a convolutional neural network model proposed by K. Simonyan and A. Zisserman from the University of Oxford in the paper “Very Deep Convolutional Networks for Large-Scale Image Recognition”. The model achieves 92.7% top-5 test accuracy in ImageNet, which is a dataset of over 14 million images belonging to 1000 classes. It was one of the famous model submitted to ILSVRC-2014. It makes the improvement over AlexNet by replacing large kernel-sized filters (11 and 5 in the first and second convolutional layer, respectively) with multiple 3×3 kernel-sized filters one after another. VGG16 was trained for weeks and was using NVIDIA Titan Black GPU’s."
      ]
    },
    {
      "cell_type": "code",
      "metadata": {
        "id": "QCQGUOuKp13D",
        "colab_type": "code",
        "colab": {}
      },
      "source": [
        "if mode == \"Fine tuning\":\n",
        "  # Load the VGG16 network without the top (dense) layers\n",
        "  vgg = VGG16(include_top=False, weights='imagenet', input_shape=x_train.shape[1:])\n",
        "  # Disable training for this network\n",
        "  vgg.trainable = False\n",
        "\n",
        "  # Add VGG16 as a layer in a Sequential model\n",
        "  model=Sequential()\n",
        "  model.add(vgg)\n",
        "  model.add(Flatten())\n",
        "  model.add(Dense(10, activation='softmax'))\n",
        "\n",
        "  model.summary()"
      ],
      "execution_count": 0,
      "outputs": []
    },
    {
      "cell_type": "markdown",
      "metadata": {
        "id": "ecqZVpqolQ3z",
        "colab_type": "text"
      },
      "source": [
        "## Training\n"
      ]
    },
    {
      "cell_type": "markdown",
      "metadata": {
        "id": "zc693SPumgy1",
        "colab_type": "text"
      },
      "source": [
        "### Parameters"
      ]
    },
    {
      "cell_type": "code",
      "metadata": {
        "id": "lVbCgpyla3LI",
        "colab_type": "code",
        "cellView": "form",
        "colab": {}
      },
      "source": [
        "#{ display-mode: \"form\" }\n",
        "\n",
        "n_epochs = 100 #@param {type:\"integer\"}\n",
        "batch_size = 256 #@param {type:\"integer\"}\n",
        "learning_rate = 0.01 #@param {type:\"number\"}\n",
        "momentum = 0.9 #@param {type:\"number\"}\n",
        "early_stopping = True #@param [\"True\", \"False\"] {type:\"raw\"}\n",
        "patience = 5 #@param {type:\"integer\"}"
      ],
      "execution_count": 0,
      "outputs": []
    },
    {
      "cell_type": "markdown",
      "metadata": {
        "id": "c8U-tBoxbrxi",
        "colab_type": "text"
      },
      "source": [
        "### Optimizer and Early stoppping initialization"
      ]
    },
    {
      "cell_type": "code",
      "metadata": {
        "id": "xduOQYskvkFZ",
        "colab_type": "code",
        "colab": {}
      },
      "source": [
        "# Let's train the model using SGD (stochastic gradient descent)\n",
        "opt = SGD(learning_rate,momentum)\n",
        "model.compile(\n",
        "  loss='categorical_crossentropy',\n",
        "  optimizer = opt,\n",
        "  metrics=['accuracy']\n",
        ")\n",
        "\n",
        "# Early stopping\n",
        "callbacks = [] if not early_stopping else [ EarlyStopping(\n",
        "    monitor='val_loss',  \n",
        "    patience=patience, \n",
        "    restore_best_weights=True\n",
        "  )\n",
        "]"
      ],
      "execution_count": 0,
      "outputs": []
    },
    {
      "cell_type": "markdown",
      "metadata": {
        "id": "3HbdQrwdmkEl",
        "colab_type": "text"
      },
      "source": [
        "### Training method\n",
        "The `fit()` method on a Keras Model returns a `History` object. The History.history attribute is a dictionary recording training loss values and metrics values at successive epochs, as well as validation loss values and validation metrics values (if applicable). "
      ]
    },
    {
      "cell_type": "code",
      "metadata": {
        "id": "yI827XD7mo5N",
        "colab_type": "code",
        "outputId": "65e40502-eeec-4206-b298-4d06ad4777e0",
        "colab": {
          "base_uri": "https://localhost:8080/",
          "height": 1000
        }
      },
      "source": [
        "history = model.fit(\n",
        "    x_train, \n",
        "    y_train, \n",
        "    validation_data=(x_valid,y_valid), \n",
        "    epochs=n_epochs,\n",
        "    callbacks = callbacks,\n",
        "    batch_size=batch_size, \n",
        "    verbose=1\n",
        "  )"
      ],
      "execution_count": 0,
      "outputs": [
        {
          "output_type": "stream",
          "text": [
            "Train on 40000 samples, validate on 10000 samples\n",
            "Epoch 1/100\n",
            "40000/40000 [==============================] - 5s 115us/step - loss: 2.0942 - acc: 0.2312 - val_loss: 1.8725 - val_acc: 0.3529\n",
            "Epoch 2/100\n",
            "40000/40000 [==============================] - 4s 97us/step - loss: 1.7948 - acc: 0.3579 - val_loss: 1.6492 - val_acc: 0.4084\n",
            "Epoch 3/100\n",
            "40000/40000 [==============================] - 4s 98us/step - loss: 1.6287 - acc: 0.4116 - val_loss: 1.5389 - val_acc: 0.4551\n",
            "Epoch 4/100\n",
            "40000/40000 [==============================] - 4s 98us/step - loss: 1.5467 - acc: 0.4439 - val_loss: 1.5001 - val_acc: 0.4675\n",
            "Epoch 5/100\n",
            "40000/40000 [==============================] - 4s 97us/step - loss: 1.4633 - acc: 0.4755 - val_loss: 1.3832 - val_acc: 0.5081\n",
            "Epoch 6/100\n",
            "40000/40000 [==============================] - 4s 98us/step - loss: 1.3984 - acc: 0.4964 - val_loss: 1.2959 - val_acc: 0.5375\n",
            "Epoch 7/100\n",
            "40000/40000 [==============================] - 4s 98us/step - loss: 1.3429 - acc: 0.5157 - val_loss: 1.2448 - val_acc: 0.5634\n",
            "Epoch 8/100\n",
            "40000/40000 [==============================] - 4s 98us/step - loss: 1.2952 - acc: 0.5363 - val_loss: 1.2158 - val_acc: 0.5644\n",
            "Epoch 9/100\n",
            "40000/40000 [==============================] - 4s 97us/step - loss: 1.2554 - acc: 0.5508 - val_loss: 1.1862 - val_acc: 0.5802\n",
            "Epoch 10/100\n",
            "40000/40000 [==============================] - 4s 98us/step - loss: 1.2207 - acc: 0.5638 - val_loss: 1.1231 - val_acc: 0.6002\n",
            "Epoch 11/100\n",
            "40000/40000 [==============================] - 4s 98us/step - loss: 1.1903 - acc: 0.5748 - val_loss: 1.1036 - val_acc: 0.6021\n",
            "Epoch 12/100\n",
            "40000/40000 [==============================] - 4s 98us/step - loss: 1.1563 - acc: 0.5895 - val_loss: 1.0814 - val_acc: 0.6202\n",
            "Epoch 13/100\n",
            "40000/40000 [==============================] - 4s 98us/step - loss: 1.1192 - acc: 0.6017 - val_loss: 1.0557 - val_acc: 0.6291\n",
            "Epoch 14/100\n",
            "40000/40000 [==============================] - 4s 97us/step - loss: 1.0909 - acc: 0.6147 - val_loss: 1.0127 - val_acc: 0.6412\n",
            "Epoch 15/100\n",
            "40000/40000 [==============================] - 4s 98us/step - loss: 1.0677 - acc: 0.6219 - val_loss: 1.0075 - val_acc: 0.6406\n",
            "Epoch 16/100\n",
            "40000/40000 [==============================] - 4s 98us/step - loss: 1.0424 - acc: 0.6301 - val_loss: 1.0207 - val_acc: 0.6405\n",
            "Epoch 17/100\n",
            "40000/40000 [==============================] - 4s 98us/step - loss: 1.0178 - acc: 0.6399 - val_loss: 0.9688 - val_acc: 0.6578\n",
            "Epoch 18/100\n",
            "40000/40000 [==============================] - 4s 97us/step - loss: 0.9918 - acc: 0.6472 - val_loss: 0.9402 - val_acc: 0.6733\n",
            "Epoch 19/100\n",
            "40000/40000 [==============================] - 4s 98us/step - loss: 0.9701 - acc: 0.6563 - val_loss: 0.9276 - val_acc: 0.6812\n",
            "Epoch 20/100\n",
            "40000/40000 [==============================] - 4s 98us/step - loss: 0.9471 - acc: 0.6667 - val_loss: 0.9060 - val_acc: 0.6873\n",
            "Epoch 21/100\n",
            "40000/40000 [==============================] - 4s 97us/step - loss: 0.9303 - acc: 0.6726 - val_loss: 0.9001 - val_acc: 0.6845\n",
            "Epoch 22/100\n",
            "40000/40000 [==============================] - 4s 96us/step - loss: 0.9049 - acc: 0.6800 - val_loss: 0.8897 - val_acc: 0.6928\n",
            "Epoch 23/100\n",
            "40000/40000 [==============================] - 4s 97us/step - loss: 0.8873 - acc: 0.6844 - val_loss: 0.8913 - val_acc: 0.6927\n",
            "Epoch 24/100\n",
            "40000/40000 [==============================] - 4s 97us/step - loss: 0.8752 - acc: 0.6908 - val_loss: 0.8611 - val_acc: 0.7020\n",
            "Epoch 25/100\n",
            "40000/40000 [==============================] - 4s 99us/step - loss: 0.8517 - acc: 0.6986 - val_loss: 0.8529 - val_acc: 0.7032\n",
            "Epoch 26/100\n",
            "40000/40000 [==============================] - 4s 97us/step - loss: 0.8385 - acc: 0.7033 - val_loss: 0.8528 - val_acc: 0.7002\n",
            "Epoch 27/100\n",
            "40000/40000 [==============================] - 4s 98us/step - loss: 0.8229 - acc: 0.7086 - val_loss: 0.8323 - val_acc: 0.7108\n",
            "Epoch 28/100\n",
            "40000/40000 [==============================] - 4s 97us/step - loss: 0.8021 - acc: 0.7161 - val_loss: 0.8265 - val_acc: 0.7141\n",
            "Epoch 29/100\n",
            "40000/40000 [==============================] - 4s 97us/step - loss: 0.7936 - acc: 0.7204 - val_loss: 0.8344 - val_acc: 0.7085\n",
            "Epoch 30/100\n",
            "40000/40000 [==============================] - 4s 97us/step - loss: 0.7719 - acc: 0.7255 - val_loss: 0.8066 - val_acc: 0.7184\n",
            "Epoch 31/100\n",
            "40000/40000 [==============================] - 4s 98us/step - loss: 0.7630 - acc: 0.7294 - val_loss: 0.8244 - val_acc: 0.7129\n",
            "Epoch 32/100\n",
            "40000/40000 [==============================] - 4s 98us/step - loss: 0.7490 - acc: 0.7341 - val_loss: 0.7976 - val_acc: 0.7208\n",
            "Epoch 33/100\n",
            "40000/40000 [==============================] - 4s 98us/step - loss: 0.7321 - acc: 0.7399 - val_loss: 0.8002 - val_acc: 0.7199\n",
            "Epoch 34/100\n",
            "40000/40000 [==============================] - 4s 98us/step - loss: 0.7152 - acc: 0.7476 - val_loss: 0.7793 - val_acc: 0.7275\n",
            "Epoch 35/100\n",
            "40000/40000 [==============================] - 4s 98us/step - loss: 0.7024 - acc: 0.7498 - val_loss: 0.7772 - val_acc: 0.7258\n",
            "Epoch 36/100\n",
            "40000/40000 [==============================] - 4s 98us/step - loss: 0.6914 - acc: 0.7551 - val_loss: 0.7796 - val_acc: 0.7256\n",
            "Epoch 37/100\n",
            "40000/40000 [==============================] - 4s 98us/step - loss: 0.6798 - acc: 0.7591 - val_loss: 0.7902 - val_acc: 0.7250\n",
            "Epoch 38/100\n",
            "40000/40000 [==============================] - 4s 98us/step - loss: 0.6610 - acc: 0.7672 - val_loss: 0.7764 - val_acc: 0.7331\n",
            "Epoch 39/100\n",
            "40000/40000 [==============================] - 4s 98us/step - loss: 0.6496 - acc: 0.7725 - val_loss: 0.7677 - val_acc: 0.7339\n",
            "Epoch 40/100\n",
            "40000/40000 [==============================] - 4s 98us/step - loss: 0.6311 - acc: 0.7755 - val_loss: 0.7731 - val_acc: 0.7299\n",
            "Epoch 41/100\n",
            "40000/40000 [==============================] - 4s 98us/step - loss: 0.6269 - acc: 0.7792 - val_loss: 0.7517 - val_acc: 0.7397\n",
            "Epoch 42/100\n",
            "40000/40000 [==============================] - 4s 98us/step - loss: 0.6214 - acc: 0.7804 - val_loss: 0.7627 - val_acc: 0.7368\n",
            "Epoch 43/100\n",
            "40000/40000 [==============================] - 4s 98us/step - loss: 0.6026 - acc: 0.7854 - val_loss: 0.7533 - val_acc: 0.7382\n",
            "Epoch 44/100\n",
            "40000/40000 [==============================] - 4s 98us/step - loss: 0.5879 - acc: 0.7910 - val_loss: 0.7444 - val_acc: 0.7416\n",
            "Epoch 45/100\n",
            "40000/40000 [==============================] - 4s 98us/step - loss: 0.5773 - acc: 0.7942 - val_loss: 0.7591 - val_acc: 0.7416\n",
            "Epoch 46/100\n",
            "40000/40000 [==============================] - 4s 98us/step - loss: 0.5648 - acc: 0.7979 - val_loss: 0.7434 - val_acc: 0.7467\n",
            "Epoch 47/100\n",
            "40000/40000 [==============================] - 4s 98us/step - loss: 0.5511 - acc: 0.8044 - val_loss: 0.7409 - val_acc: 0.7430\n",
            "Epoch 48/100\n",
            "40000/40000 [==============================] - 4s 98us/step - loss: 0.5444 - acc: 0.8054 - val_loss: 0.7438 - val_acc: 0.7436\n",
            "Epoch 49/100\n",
            "40000/40000 [==============================] - 4s 98us/step - loss: 0.5392 - acc: 0.8069 - val_loss: 0.7624 - val_acc: 0.7413\n",
            "Epoch 50/100\n",
            "40000/40000 [==============================] - 4s 99us/step - loss: 0.5228 - acc: 0.8132 - val_loss: 0.7600 - val_acc: 0.7440\n",
            "Epoch 51/100\n",
            "40000/40000 [==============================] - 4s 98us/step - loss: 0.5142 - acc: 0.8164 - val_loss: 0.7388 - val_acc: 0.7476\n",
            "Epoch 52/100\n",
            "40000/40000 [==============================] - 4s 97us/step - loss: 0.5120 - acc: 0.8184 - val_loss: 0.7373 - val_acc: 0.7482\n",
            "Epoch 53/100\n",
            "40000/40000 [==============================] - 4s 98us/step - loss: 0.5053 - acc: 0.8196 - val_loss: 0.7350 - val_acc: 0.7480\n",
            "Epoch 54/100\n",
            "40000/40000 [==============================] - 4s 98us/step - loss: 0.4847 - acc: 0.8267 - val_loss: 0.7423 - val_acc: 0.7500\n",
            "Epoch 55/100\n",
            "40000/40000 [==============================] - 4s 98us/step - loss: 0.4783 - acc: 0.8297 - val_loss: 0.7482 - val_acc: 0.7496\n",
            "Epoch 56/100\n",
            "40000/40000 [==============================] - 4s 98us/step - loss: 0.4710 - acc: 0.8338 - val_loss: 0.7377 - val_acc: 0.7520\n",
            "Epoch 57/100\n",
            "40000/40000 [==============================] - 4s 98us/step - loss: 0.4622 - acc: 0.8334 - val_loss: 0.7391 - val_acc: 0.7489\n",
            "Epoch 58/100\n",
            "40000/40000 [==============================] - 4s 98us/step - loss: 0.4516 - acc: 0.8380 - val_loss: 0.7364 - val_acc: 0.7480\n"
          ],
          "name": "stdout"
        }
      ]
    },
    {
      "cell_type": "markdown",
      "metadata": {
        "id": "bb4CECZvnYsu",
        "colab_type": "text"
      },
      "source": [
        "### Curves visualization\n"
      ]
    },
    {
      "cell_type": "code",
      "metadata": {
        "id": "z7O9JNSvZu_a",
        "colab_type": "code",
        "outputId": "11ad4346-cacf-4038-f29f-3482aa12b7f4",
        "colab": {
          "base_uri": "https://localhost:8080/",
          "height": 282
        }
      },
      "source": [
        "# For visually better looking plots\n",
        "import matplotlib.pyplot as plt\n",
        "# Changing default figure size for properly accomodating images\n",
        "from pylab import rcParams\n",
        "rcParams['figure.figsize'] = (16, 4)\n",
        "plt.style.use('ggplot')\n",
        "\n",
        "f, (ax1, ax2) = plt.subplots(nrows=1, ncols=2)\n",
        "ax1.set_title('Training Loss vs. Epoch')\n",
        "ax2.set_title('Validation Accuracy vs. Epoch')\n",
        "\n",
        "ax1.plot(history.history['loss'], color='green', label='Train Loss')\n",
        "ax1.plot(history.history['val_loss'], color='blue', label='Val loss')\n",
        "\n",
        "ax2.plot(history.history['acc'], color='green', label='Train Accuracy')\n",
        "ax2.plot(history.history['val_acc'], color='blue', label='Val Accuracy')\n",
        "\n",
        "ax1.legend(loc='upper right')\n",
        "ax2.legend(loc='lower right')\n",
        "plt.show()"
      ],
      "execution_count": 0,
      "outputs": [
        {
          "output_type": "display_data",
          "data": {
            "image/png": "[encoded data removed]",
            "text/plain": [
              "<Figure size 1152x288 with 2 Axes>"
            ]
          },
          "metadata": {
            "tags": []
          }
        }
      ]
    },
    {
      "cell_type": "markdown",
      "metadata": {
        "id": "c562EgZynlGP",
        "colab_type": "text"
      },
      "source": [
        "## Test evaluation"
      ]
    },
    {
      "cell_type": "code",
      "metadata": {
        "id": "nEBcDnRunpzf",
        "colab_type": "code",
        "outputId": "85ec54cc-0466-41cb-a7a3-e9be0d5152a5",
        "colab": {
          "base_uri": "https://localhost:8080/",
          "height": 164
        }
      },
      "source": [
        "# Score trained model.\n",
        "scores = model.evaluate(x_train, y_train, verbose=0)\n",
        "print('Training loss:', scores[0])\n",
        "print('Training accuracy:', scores[1])\n",
        "scores = model.evaluate(x_valid, y_valid, verbose=0)\n",
        "print('\\nValidation loss:', scores[0])\n",
        "print('Validation accuracy:', scores[1])\n",
        "scores = model.evaluate(x_test, y_test, verbose=0)\n",
        "print('\\nTest loss:', scores[0])\n",
        "print('Test accuracy:', scores[1])"
      ],
      "execution_count": 0,
      "outputs": [
        {
          "output_type": "stream",
          "text": [
            "Training loss: 0.24110282188653945\n",
            "Training accuracy: 0.947325\n",
            "\n",
            "Validation loss: 0.7349930655002594\n",
            "Validation accuracy: 0.748\n",
            "\n",
            "Test loss: 0.7341095499038697\n",
            "Test accuracy: 0.751\n"
          ],
          "name": "stdout"
        }
      ]
    }
  ]
}